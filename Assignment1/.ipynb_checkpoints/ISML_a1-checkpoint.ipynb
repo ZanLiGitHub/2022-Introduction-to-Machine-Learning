{
 "cells": [
  {
   "cell_type": "code",
   "execution_count": 1,
   "metadata": {
    "colab": {},
    "colab_type": "code",
    "id": "8URxxu0XALtZ"
   },
   "outputs": [],
   "source": [
    "#''''''''''''''''''''''''''''''''''''''''''''\n",
    "# ZanLi\n",
    "# ID: a1750906\n",
    "# Introduction-to-Statistical-Machine-Learning\n",
    "# Assignment: 1\n",
    "#''''''''''''''''''''''''''''''''''''''''''''"
   ]
  },
  {
   "cell_type": "code",
   "execution_count": 20,
   "metadata": {
    "colab": {},
    "colab_type": "code",
    "id": "S22fuLqG53fD"
   },
   "outputs": [],
   "source": [
    "# Importing libraries and modules \n",
    "\n",
    "import os\n",
    "\n",
    "import math as m\n",
    "import random\n",
    "\n",
    "import pandas as pd\n",
    "import numpy as np\n",
    "from numpy import array\n",
    "\n",
    "import cvxopt\n",
    "import cvxopt.solvers\n",
    "from cvxopt import matrix\n",
    "from cvxopt import solvers\n",
    "\n",
    "from sklearn.svm import SVC\n",
    "from sklearn.metrics import accuracy_score\n",
    "from sklearn.model_selection import train_test_split\n",
    "\n",
    "import matplotlib.pyplot as plt\n",
    "\n",
    "np.random.seed(40)\n",
    "%matplotlib inline\n",
    "solvers.options['show_progress'] = False\n",
    "solvers.options['abstol'] = 1e-10\n",
    "solvers.options['reltol'] = 1e-10\n",
    "solvers.options['feastol'] = 1e-10"
   ]
  },
  {
   "cell_type": "code",
   "execution_count": 21,
   "metadata": {
    "colab": {},
    "colab_type": "code",
    "id": "7puH-Fs455EV"
   },
   "outputs": [],
   "source": [
    "# Reading the files and converting to necessary labels -1 and 1\n",
    "\n",
    "X_train = pd.read_csv('./train.csv', header=None)\n",
    "Y_test = pd.read_csv('./test.csv', header=None)\n",
    "\n",
    "X_data_train = X_train.iloc[:4000,1:].to_numpy()\n",
    "y_label_train = X_train.iloc[:4000,0].to_numpy()\n",
    "y_label_train = np.where(y_label_train == 0, -1, y_label_train)\n",
    "\n",
    "X_data_val = X_train.iloc[4000:,1:].to_numpy()\n",
    "y_label_val  = X_train.iloc[4000:,0].to_numpy()\n",
    "y_label_val = np.where(y_label_val == 0, -1, y_label_val)\n",
    "\n",
    "Y = Y_test.iloc[:,1:].to_numpy()\n",
    "y = Y_test.iloc[:,0].to_numpy()\n",
    "y = np.where(y == 0, -1, y)"
   ]
  },
  {
   "cell_type": "code",
   "execution_count": 22,
   "metadata": {
    "colab": {},
    "colab_type": "code",
    "id": "xuB-vA8R560-"
   },
   "outputs": [],
   "source": [
    "# SVM Primal Form - training function\n",
    "\n",
    "def svm_train_primal(data_train, label_train, regularisation_para_C):\n",
    "    a, b = data_train.shape\n",
    "    P_w, P_s, P_b = np.asarray(np.diag(np.ones(b))), np.zeros([b, a]),  np.zeros([1, b]) \n",
    "    \n",
    "    P_1, P_2, P_3, P_4 = np.zeros([a, a]), np.zeros([a, 1]), np.zeros([1, a]), np.zeros([1, 1]) \n",
    "    \n",
    "    P = cvxopt.matrix(np.concatenate((np.concatenate((P_w, P_s, P_b.T), axis = 1), np.concatenate((P_s.T, P_1, P_2), axis=1), np.concatenate((P_b, P_3, P_4),axis = 1)), axis = 0))\n",
    "\n",
    "    q = cvxopt.matrix((np.concatenate((P_b, np.matrix(np.ones([a]) * regularisation_para_C/a), P_4), axis=1).T))\n",
    "    \n",
    "    g_1, g_2, g_3 = np.dot(np.diag(label_train), data_train) * (-1), np.asarray(np.diag(np.ones([a]) * (-1))),  np.matrix(label_train) * (-1)\n",
    "    g_3 = g_3.T\n",
    "\n",
    "    G = np.vstack((np.concatenate((g_1,g_2,g_3), axis = 1), np.concatenate((np.zeros([a, b + 1]), np.asarray(np.diag(np.ones([a]) * (-1)))), axis = 1)))\n",
    "    G = cvxopt.matrix(G) \n",
    "\n",
    "    h = cvxopt.matrix(np.hstack((np.ones(a) * (-1), np.zeros(a))))\n",
    "    \n",
    "    svm_model = np.array(cvxopt.solvers.coneqp(P,q,G,h)['x']).flatten()\n",
    "    return svm_model"
   ]
  },
  {
   "cell_type": "code",
   "execution_count": 23,
   "metadata": {
    "colab": {},
    "colab_type": "code",
    "id": "nMVDy2Jc58Fm"
   },
   "outputs": [],
   "source": [
    "# SVM Primal Form - testing function\n",
    "\n",
    "def svm_predict_primal(data_test, label_test, svm_model):\n",
    "    a, b = X_data_train.shape\n",
    "    accuracy = accuracy_score(label_test, np.sign(np.dot(data_test, svm_model[:b]) + svm_model[-1]))\n",
    "    return accuracy"
   ]
  },
  {
   "cell_type": "code",
   "execution_count": 24,
   "metadata": {
    "colab": {
     "base_uri": "https://localhost:8080/",
     "height": 391
    },
    "colab_type": "code",
    "id": "JO-mCWio5_It",
    "outputId": "21415c16-b042-4e5d-f9b8-d84d6b7a23ad"
   },
   "outputs": [
    {
     "name": "stdout",
     "output_type": "stream",
     "text": [
      "w: -0.14521568279576713  b: 1.779813670402577\n"
     ]
    }
   ],
   "source": [
    "# SVM Primal Form - parameters\n",
    "\n",
    "svm_model = svm_train_primal(X_data_train , y_label_train , 100)\n",
    "w_primal = svm_model[:X_data_train.shape[1]]\n",
    "b_primal = svm_model[-1]\n",
    "print('w:',np.sum(w_primal),' b:',b_primal)"
   ]
  },
  {
   "cell_type": "code",
   "execution_count": null,
   "metadata": {},
   "outputs": [
    {
     "name": "stdout",
     "output_type": "stream",
     "text": [
      "The training accuracy for C =  0.0009765625  is:  0.4908888888888889\n",
      "The training accuracy for C =  0.00390625  is:  0.4908888888888889\n"
     ]
    }
   ],
   "source": [
    "# SVM Primal Form - accuracy\n",
    "\n",
    "regularisation_para_C = [2**-10,2**-8,2**-6,2**-4,2**-2,2**0,2**2,2**4,2**6,2**8,2**10]\n",
    "\n",
    "for k in regularisation_para_C:\n",
    "    svm_model = svm_train_primal(X_data_train , y_label_train , k)\n",
    "    test_accuracy_primal = svm_predict_primal(X_data_val , y_label_val, svm_model)\n",
    "    print('The training accuracy for C = ', k, ' is: ', test_accuracy_primal)"
   ]
  },
  {
   "cell_type": "code",
   "execution_count": 18,
   "metadata": {
    "colab": {},
    "colab_type": "code",
    "id": "HS1ZvQ3W6Bcm"
   },
   "outputs": [],
   "source": [
    "# SVM Dual Form - training function\n",
    "\n",
    "def svm_train_dual(data_train,  label_train,  regularisation_para_C):\n",
    "    a, b = data_train.shape\n",
    "    label_train = label_train.reshape(-1, 1) * 1.\n",
    "\n",
    "    X_dash = label_train * data_train\n",
    "    H = np.dot(X_dash , X_dash.T) * 1.\n",
    "    \n",
    "    P = matrix(H)\n",
    "    q = matrix(-np.ones((a, 1)))\n",
    "    G = matrix(np.vstack((np.eye(a) * (-1), np.eye(a))))\n",
    "    h = matrix(np.hstack((np.zeros(a), np.ones(a) * (regularisation_para_C/a))))\n",
    "    A = matrix(label_train.reshape(1, -1))\n",
    "    b = matrix(np.zeros(1))\n",
    "    \n",
    "    res = solvers.qp(P, q, G, h, A, b)\n",
    "    \n",
    "    alphas = np.array(res['x'])\n",
    "    w = ((label_train * alphas).T @ data_train).reshape(-1,1)\n",
    "    S = (alphas > 1e-4).flatten()\n",
    "    b = np.mean(label_train[S] - np.dot(data_train[S], w))\n",
    "    print(\"alphas:\",np.sum(alphas))\n",
    "    print(\"w:\",np.sum(w))\n",
    "    print(\"b:\",b)\n",
    "\n",
    "    svm_model_d = np.vstack((w, b))\n",
    "    \n",
    "    return svm_model_d"
   ]
  },
  {
   "cell_type": "code",
   "execution_count": 19,
   "metadata": {},
   "outputs": [
    {
     "name": "stdout",
     "output_type": "stream",
     "text": [
      "     pcost       dcost       gap    pres   dres\n",
      " 0: -3.8416e+02 -2.2800e+02  4e+04  1e+02  5e-13\n",
      " 1: -2.2204e+01 -2.2367e+02  1e+03  3e+00  5e-13\n",
      " 2: -1.2704e+01 -1.3798e+02  2e+02  4e-01  7e-14\n",
      " 3: -8.2452e+00 -4.8671e+01  6e+01  1e-01  3e-14\n",
      " 4: -6.5928e+00 -2.4543e+01  3e+01  4e-02  2e-14\n",
      " 5: -5.8533e+00 -1.1273e+01  7e+00  1e-02  2e-14\n",
      " 6: -5.9382e+00 -7.9755e+00  2e+00  2e-03  2e-14\n",
      " 7: -6.1146e+00 -6.9517e+00  1e+00  7e-04  2e-14\n",
      " 8: -6.2067e+00 -6.5700e+00  4e-01  1e-04  2e-14\n",
      " 9: -6.3032e+00 -6.4094e+00  1e-01  2e-05  2e-14\n",
      "10: -6.3347e+00 -6.3622e+00  3e-02  4e-06  2e-14\n",
      "11: -6.3454e+00 -6.3477e+00  2e-03  1e-07  2e-14\n",
      "12: -6.3464e+00 -6.3465e+00  2e-04  5e-09  2e-14\n",
      "13: -6.3464e+00 -6.3464e+00  4e-06  1e-10  2e-14\n",
      "Optimal solution found.\n",
      "alphas: 7.281637057117683\n",
      "w: -0.14513522739520301\n",
      "b: 1.7389327654668323\n"
     ]
    }
   ],
   "source": [
    "# SVM Dual Form - parameters\n",
    "\n",
    "svm_model_d = svm_train_dual(X_data_train , y_label_train , 100)"
   ]
  },
  {
   "cell_type": "code",
   "execution_count": 9,
   "metadata": {
    "colab": {
     "base_uri": "https://localhost:8080/",
     "height": 51
    },
    "colab_type": "code",
    "id": "D1SndoD36I_W",
    "outputId": "465ff5b6-ff5c-4d05-d149-4c85291d6ce4"
   },
   "outputs": [
    {
     "name": "stdout",
     "output_type": "stream",
     "text": [
      "w =  -0.09878090890038105\n",
      "b =  [0.91294018]\n",
      "The training accuracy is :  0.97425\n",
      "The testing accuracy is :  0.9746666666666667\n"
     ]
    }
   ],
   "source": [
    "# Scikit-learn SVM\n",
    "\n",
    "SVM_classifier = SVC(C = 4/X_data_train.shape[0], kernel = 'linear')\n",
    "SVM_classifier.fit(X_data_train, y_label_train) \n",
    "predicted_labels_train = SVM_classifier.predict(X_data_train)\n",
    "train_accuracy = accuracy_score(y_label_train, predicted_labels_train)\n",
    "predicted_labels_test = SVM_classifier.predict(Y)\n",
    "test_accuracy = accuracy_score(y, predicted_labels_test)\n",
    "print('w = ',np.sum(SVM_classifier.coef_))\n",
    "print('b = ',SVM_classifier.intercept_)\n",
    "print('The training accuracy is : ',train_accuracy)\n",
    "print('The testing accuracy is : ',test_accuracy)"
   ]
  },
  {
   "cell_type": "code",
   "execution_count": null,
   "metadata": {},
   "outputs": [],
   "source": []
  }
 ],
 "metadata": {
  "accelerator": "GPU",
  "colab": {
   "collapsed_sections": [],
   "name": "a1_ISML.ipynb",
   "provenance": []
  },
  "kernelspec": {
   "display_name": "Python 3 (ipykernel)",
   "language": "python",
   "name": "python3"
  },
  "language_info": {
   "codemirror_mode": {
    "name": "ipython",
    "version": 3
   },
   "file_extension": ".py",
   "mimetype": "text/x-python",
   "name": "python",
   "nbconvert_exporter": "python",
   "pygments_lexer": "ipython3",
   "version": "3.8.9"
  }
 },
 "nbformat": 4,
 "nbformat_minor": 1
}
