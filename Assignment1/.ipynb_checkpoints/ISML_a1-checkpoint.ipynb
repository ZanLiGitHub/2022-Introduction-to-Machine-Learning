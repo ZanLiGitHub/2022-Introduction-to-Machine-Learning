{
 "cells": [
  {
   "cell_type": "code",
   "execution_count": 1,
   "metadata": {
    "colab": {},
    "colab_type": "code",
    "id": "8URxxu0XALtZ"
   },
   "outputs": [],
   "source": [
    "#''''''''''''''''''''''''''''''''''''''''''''\n",
    "# ZanLi\n",
    "# ID: a1750906\n",
    "# Introduction-to-Statistical-Machine-Learning\n",
    "# Assignment: 1\n",
    "#''''''''''''''''''''''''''''''''''''''''''''"
   ]
  },
  {
   "cell_type": "code",
   "execution_count": 2,
   "metadata": {
    "colab": {},
    "colab_type": "code",
    "id": "S22fuLqG53fD"
   },
   "outputs": [],
   "source": [
    "# Importing libraries and modules \n",
    "\n",
    "import os\n",
    "\n",
    "import math as m\n",
    "import random\n",
    "\n",
    "import pandas as pd\n",
    "import numpy as np\n",
    "from numpy import array\n",
    "\n",
    "import cvxopt\n",
    "import cvxopt.solvers\n",
    "from cvxopt import matrix\n",
    "from cvxopt import solvers\n",
    "\n",
    "from sklearn.svm import SVC\n",
    "from sklearn.metrics import accuracy_score\n",
    "from sklearn.model_selection import train_test_split\n",
    "\n",
    "np.random.seed(40)\n",
    "\n",
    "solvers.options['show_progress'] = False\n",
    "solvers.options['abstol'] = 1e-10\n",
    "solvers.options['reltol'] = 1e-10\n",
    "solvers.options['feastol'] = 1e-10"
   ]
  },
  {
   "cell_type": "code",
   "execution_count": 3,
   "metadata": {
    "colab": {},
    "colab_type": "code",
    "id": "7puH-Fs455EV"
   },
   "outputs": [],
   "source": [
    "# Reading the files and converting to necessary labels -1 and 1\n",
    "\n",
    "X_train = pd.read_csv('./train.csv', header=None)\n",
    "Y_test = pd.read_csv('./test.csv', header=None)\n",
    "\n",
    "X_data_train = X_train.iloc[:4000,1:].to_numpy()\n",
    "y_label_train = X_train.iloc[:4000,0].to_numpy()\n",
    "y_label_train = np.where(y_label_train == 0, -1, y_label_train)\n",
    "\n",
    "X_data_val = X_train.iloc[4000:,1:].to_numpy()\n",
    "y_label_val  = X_train.iloc[4000:,0].to_numpy()\n",
    "y_label_val = np.where(y_label_val == 0, -1, y_label_val)\n",
    "\n",
    "Y = Y_test.iloc[:,1:].to_numpy()\n",
    "y = Y_test.iloc[:,0].to_numpy()\n",
    "y = np.where(y == 0, -1, y)"
   ]
  },
  {
   "cell_type": "code",
   "execution_count": 10,
   "metadata": {
    "colab": {},
    "colab_type": "code",
    "id": "xuB-vA8R560-"
   },
   "outputs": [],
   "source": [
    "# SVM Primal Form - training function\n",
    "\n",
    "def svm_train_primal(data_train, label_train, regularisation_para_C):\n",
    "    a, b = data_train.shape\n",
    "    \n",
    "    P_w = np.asarray(np.diag(np.ones(b)))\n",
    "    P_s = np.zeros([b, a])\n",
    "    P_b = np.zeros([1, b])\n",
    "    P_1 = np.zeros([a, a])\n",
    "    P_2 = np.zeros([a, 1])\n",
    "    P_3 = np.zeros([1, a])\n",
    "    P_4 = np.zeros([1, 1])\n",
    "    P_wsb = np.concatenate((P_w, P_s, P_b.T), axis = 1)\n",
    "    P_s12 = np.concatenate((P_s.T, P_1, P_2), axis=1)\n",
    "    P_b34 = np.concatenate((P_b, P_3, P_4),axis = 1)\n",
    "    P = cvxopt.matrix(np.concatenate((P_wsb, P_s12, P_b34), axis = 0))\n",
    "    \n",
    "    q = cvxopt.matrix((np.concatenate((P_b, np.matrix(np.ones([a]) * regularisation_para_C/a), P_4), axis=1).T))\n",
    "    \n",
    "    g_1 = np.dot(np.diag(label_train), data_train) * (-1)\n",
    "    g_2 = np.asarray(np.diag(np.ones([a]) * (-1)))\n",
    "    g_3 = np.matrix(label_train) * (-1)\n",
    "    g_3 = g_3.T\n",
    "    g_123 = np.concatenate((g_1,g_2,g_3), axis = 1)\n",
    "    G = np.vstack((g_123, np.concatenate((np.zeros([a, b + 1]), np.asarray(np.diag(np.ones([a]) * (-1)))), axis = 1)))\n",
    "    G = cvxopt.matrix(G) \n",
    "    \n",
    "    h = cvxopt.matrix(np.hstack((np.ones(a) * (-1), np.zeros(a))))\n",
    "    \n",
    "    svm_model = np.array(cvxopt.solvers.coneqp(P,q,G,h)['x']).flatten()\n",
    "    return svm_model"
   ]
  },
  {
   "cell_type": "code",
   "execution_count": 11,
   "metadata": {
    "colab": {},
    "colab_type": "code",
    "id": "nMVDy2Jc58Fm"
   },
   "outputs": [],
   "source": [
    "# SVM Primal Form - testing function\n",
    "\n",
    "def svm_predict_primal(data_test, label_test, svm_model):\n",
    "    a, b = X_data_train.shape\n",
    "    accuracy = accuracy_score(label_test, np.sign(np.dot(data_test, svm_model[:b]) + svm_model[-1]))\n",
    "    return accuracy"
   ]
  },
  {
   "cell_type": "code",
   "execution_count": 12,
   "metadata": {
    "colab": {
     "base_uri": "https://localhost:8080/",
     "height": 391
    },
    "colab_type": "code",
    "id": "JO-mCWio5_It",
    "outputId": "21415c16-b042-4e5d-f9b8-d84d6b7a23ad"
   },
   "outputs": [
    {
     "name": "stdout",
     "output_type": "stream",
     "text": [
      "w: -0.14521568279576713  b: 1.779813670402577\n"
     ]
    }
   ],
   "source": [
    "# SVM Primal Form - parameters\n",
    "\n",
    "svm_model = svm_train_primal(X_data_train , y_label_train , 100)\n",
    "w_primal = svm_model[:X_data_train.shape[1]]\n",
    "b_primal = svm_model[-1]\n",
    "print('w:',np.sum(w_primal),' b:',b_primal)"
   ]
  },
  {
   "cell_type": "code",
   "execution_count": null,
   "metadata": {},
   "outputs": [
    {
     "name": "stdout",
     "output_type": "stream",
     "text": [
      "The training accuracy for C =  0.0009765625  is:  0.4908888888888889\n",
      "The training accuracy for C =  0.00390625  is:  0.4908888888888889\n",
      "The training accuracy for C =  0.015625  is:  0.4908888888888889\n",
      "The training accuracy for C =  0.0625  is:  0.9244444444444444\n",
      "The training accuracy for C =  0.25  is:  0.9622222222222222\n",
      "The training accuracy for C =  1  is:  0.9717777777777777\n",
      "The training accuracy for C =  4  is:  0.9748888888888889\n"
     ]
    }
   ],
   "source": [
    "# SVM Primal Form - accuracy\n",
    "\n",
    "regularisation_para_C = [2**-10,2**-8,2**-6,2**-4,2**-2,2**0,2**2,2**4,2**6,2**8,2**10]\n",
    "\n",
    "for k in regularisation_para_C:\n",
    "    svm_model = svm_train_primal(X_data_train , y_label_train , k)\n",
    "    test_accuracy_primal = svm_predict_primal(X_data_val , y_label_val, svm_model)\n",
    "    print('The training accuracy for C = ', k, ' is: ', test_accuracy_primal)"
   ]
  },
  {
   "cell_type": "code",
   "execution_count": 7,
   "metadata": {
    "colab": {},
    "colab_type": "code",
    "id": "HS1ZvQ3W6Bcm"
   },
   "outputs": [],
   "source": [
    "# SVM Dual Form - training function\n",
    "\n",
    "def svm_train_dual(data_train,  label_train,  regularisation_para_C):\n",
    "    a, b = data_train.shape\n",
    "    label_train = label_train.reshape(-1, 1) * 1.\n",
    "\n",
    "    X_dash = label_train * data_train\n",
    "    H = np.dot(X_dash , X_dash.T) * 1.\n",
    "    \n",
    "    P = matrix(H)\n",
    "    q = matrix(-np.ones((a, 1)))\n",
    "    G = matrix(np.vstack((np.eye(a) * (-1), np.eye(a))))\n",
    "    h = matrix(np.hstack((np.zeros(a), np.ones(a) * (regularisation_para_C/a))))\n",
    "    A = matrix(label_train.reshape(1, -1))\n",
    "    b = matrix(np.zeros(1))\n",
    "    \n",
    "    res = solvers.qp(P, q, G, h, A, b)\n",
    "    \n",
    "    alphas = np.array(res['x'])\n",
    "    w = ((label_train * alphas).T @ data_train).reshape(-1,1)\n",
    "    S = (alphas > 1e-4).flatten()\n",
    "    b = np.mean(label_train[S] - np.dot(data_train[S], w))\n",
    "    print(\"alphas:\",np.sum(alphas))\n",
    "    print(\"w:\",np.sum(w))\n",
    "    print(\"b:\",b)\n",
    "\n",
    "    svm_model_d = np.vstack((w, b))\n",
    "    \n",
    "    return svm_model_d"
   ]
  },
  {
   "cell_type": "code",
   "execution_count": 8,
   "metadata": {},
   "outputs": [
    {
     "name": "stdout",
     "output_type": "stream",
     "text": [
      "alphas: 7.281632287122897\n",
      "w: -0.14521566946740905\n",
      "b: 1.7389431857097446\n"
     ]
    }
   ],
   "source": [
    "# SVM Dual Form - parameters\n",
    "\n",
    "svm_model_d = svm_train_dual(X_data_train , y_label_train , 100)"
   ]
  },
  {
   "cell_type": "code",
   "execution_count": 11,
   "metadata": {
    "colab": {
     "base_uri": "https://localhost:8080/",
     "height": 51
    },
    "colab_type": "code",
    "id": "D1SndoD36I_W",
    "outputId": "465ff5b6-ff5c-4d05-d149-4c85291d6ce4"
   },
   "outputs": [
    {
     "name": "stdout",
     "output_type": "stream",
     "text": [
      "w =  -0.09878090890038105\n",
      "b =  [0.91294018]\n",
      "The training accuracy is :  0.97425\n",
      "The testing accuracy is :  0.9746666666666667\n"
     ]
    }
   ],
   "source": [
    "# Scikit-learn SVM\n",
    "\n",
    "SVM_classifier = SVC(C = 4/X_data_train.shape[0], kernel = 'linear')\n",
    "SVM_classifier.fit(X_data_train, y_label_train) \n",
    "predicted_labels_train = SVM_classifier.predict(X_data_train)\n",
    "train_accuracy = accuracy_score(y_label_train, predicted_labels_train)\n",
    "predicted_labels_test = SVM_classifier.predict(Y)\n",
    "test_accuracy = accuracy_score(y, predicted_labels_test)\n",
    "print('w = ',np.sum(SVM_classifier.coef_))\n",
    "print('b = ',SVM_classifier.intercept_)\n",
    "print('The training accuracy is : ',train_accuracy)\n",
    "print('The testing accuracy is : ',test_accuracy)"
   ]
  }
 ],
 "metadata": {
  "accelerator": "GPU",
  "colab": {
   "collapsed_sections": [],
   "name": "a1_ISML.ipynb",
   "provenance": []
  },
  "kernelspec": {
   "display_name": "Python 3 (ipykernel)",
   "language": "python",
   "name": "python3"
  },
  "language_info": {
   "codemirror_mode": {
    "name": "ipython",
    "version": 3
   },
   "file_extension": ".py",
   "mimetype": "text/x-python",
   "name": "python",
   "nbconvert_exporter": "python",
   "pygments_lexer": "ipython3",
   "version": "3.8.9"
  }
 },
 "nbformat": 4,
 "nbformat_minor": 1
}
