{
 "cells": [
  {
   "cell_type": "code",
   "execution_count": 1,
   "metadata": {
    "colab": {},
    "colab_type": "code",
    "id": "8URxxu0XALtZ"
   },
   "outputs": [],
   "source": [
    "#''''''''''''''''''''''''''''''''''''''''''''\n",
    "# ZanLi\n",
    "# ID: a1750906\n",
    "# Introduction-to-Statistical-Machine-Learning\n",
    "# Assignment: 1\n",
    "#''''''''''''''''''''''''''''''''''''''''''''"
   ]
  },
  {
   "cell_type": "code",
   "execution_count": 2,
   "metadata": {
    "colab": {
     "base_uri": "https://localhost:8080/",
     "height": 34
    },
    "colab_type": "code",
    "id": "8HAZI1Up6PYd",
    "outputId": "f4b7adac-5351-4d4a-8d32-6ba12ff152e6"
   },
   "outputs": [],
   "source": [
    "# from google.colab import drive\n",
    "# drive.mount('/content/drive')"
   ]
  },
  {
   "cell_type": "code",
   "execution_count": 3,
   "metadata": {
    "colab": {},
    "colab_type": "code",
    "id": "S22fuLqG53fD"
   },
   "outputs": [],
   "source": [
    "# Importing useful libraries and modules \n",
    "\n",
    "import os\n",
    "import pandas as pd\n",
    "import numpy as np\n",
    "import random\n",
    "import math as m\n",
    "import matplotlib.pyplot as plt\n",
    "import cvxopt\n",
    "import cvxopt.solvers\n",
    "from cvxopt import matrix\n",
    "from cvxopt import solvers\n",
    "from numpy import array\n",
    "from sklearn.svm import SVC\n",
    "from sklearn.metrics import accuracy_score\n",
    "from sklearn.model_selection import train_test_split\n",
    "%matplotlib inline\n",
    "np.random.seed(40)"
   ]
  },
  {
   "cell_type": "code",
   "execution_count": 4,
   "metadata": {
    "colab": {},
    "colab_type": "code",
    "id": "7puH-Fs455EV"
   },
   "outputs": [],
   "source": [
    "# Reading the files and converting to necessary labels -1 and 1\n",
    "\n",
    "X_train, Y_test = pd.read_csv('./train.csv', header=None), pd.read_csv('./test.csv', header=None)\n",
    "X_data_train, X_data_val = X_train.iloc[:6000,1:].to_numpy(), X_train.iloc[6000:,1:].to_numpy()\n",
    "y_label_train, y_label_val  = X_train.iloc[:6000,0].to_numpy(), X_train.iloc[6000:,0].to_numpy()\n",
    "Y, y = Y_test.iloc[:,1:].to_numpy(), Y_test.iloc[:,0].to_numpy()\n",
    "y_label_train, y_label_val, y = np.where(y_label_train == 0, -1, y_label_train), np.where(y_label_val == 0, -1, y_label_val), np.where(y == 0, -1, y)"
   ]
  },
  {
   "cell_type": "code",
   "execution_count": 5,
   "metadata": {
    "colab": {},
    "colab_type": "code",
    "id": "xuB-vA8R560-"
   },
   "outputs": [],
   "source": [
    "# SVM Primal Form - training function\n",
    "\n",
    "def svm_train_primal(data_train, label_train, regularisation_para_C):\n",
    "    a, b = data_train.shape\n",
    "    P_w,  P_s, P_b = np.asarray(np.diag(np.ones(b))), np.zeros([b, a]),  np.zeros([1, b]) \n",
    "    \n",
    "    P_1, P_2, P_3, P_4 = np.zeros([a, a]), np.zeros([a, 1]), np.zeros([1, a]), np.zeros([1, 1]) \n",
    "    P = cvxopt.matrix(np.concatenate((np.concatenate((P_w, P_s, P_b.T), axis = 1), np.concatenate((P_s.T, P_1, P_2), axis=1), np.concatenate((P_b, P_3, P_4),axis = 1)), axis = 0))\n",
    "\n",
    "    q = cvxopt.matrix((np.concatenate((P_b, np.matrix(np.ones([a]) * regularisation_para_C/a), P_4), axis=1).T))\n",
    "    \n",
    "    g_1, g_2, g_3 = np.dot(np.diag(label_train), data_train) * (-1), np.asarray(np.diag(np.ones([a]) * (-1))),  np.matrix(label_train) * (-1)\n",
    "    g_3 = g_3.T\n",
    "\n",
    "    G = np.vstack((np.concatenate((g_1,g_2,g_3), axis = 1), np.concatenate((np.zeros([a, b + 1]), np.asarray(np.diag(np.ones([a]) * (-1)))), axis = 1)))\n",
    "    G = cvxopt.matrix(G) \n",
    "\n",
    "    h = cvxopt.matrix(np.hstack((np.ones(a) * (-1), np.zeros(a))))             \n",
    "    svm_model = np.array(cvxopt.solvers.coneqp(P,q,G,h)['x']).flatten()\n",
    "    return svm_model"
   ]
  },
  {
   "cell_type": "code",
   "execution_count": 6,
   "metadata": {
    "colab": {},
    "colab_type": "code",
    "id": "nMVDy2Jc58Fm"
   },
   "outputs": [],
   "source": [
    "# SVM Primal Form - testing function\n",
    "\n",
    "def svm_predict_primal(data_test, label_test, svm_model):\n",
    "    a, b = X_data_train.shape\n",
    "    accuracy = accuracy_score(label_test, np.sign(np.dot(data_test, svm_model[:b]) + svm_model[-1]))\n",
    "    return accuracy"
   ]
  },
  {
   "cell_type": "code",
   "execution_count": null,
   "metadata": {
    "colab": {
     "base_uri": "https://localhost:8080/",
     "height": 1000
    },
    "colab_type": "code",
    "id": "UIjUEHX55-Bu",
    "outputId": "07ebbd20-b5ed-4417-d7a3-25d09dcd3add"
   },
   "outputs": [
    {
     "name": "stdout",
     "output_type": "stream",
     "text": [
      "     pcost       dcost       gap    pres   dres\n",
      " 0:  1.4498e-01  3.7584e+02  4e+04  3e+00  3e+04\n",
      " 1:  2.3008e+00 -4.1298e+02  4e+02  3e-02  3e+02\n",
      " 2:  2.2919e+00 -9.4169e+00  1e+01  8e-04  7e+00\n",
      " 3:  1.6461e+00 -7.4675e-01  2e+00  9e-05  8e-01\n",
      " 4:  3.7523e-01  1.5617e-01  2e-01  8e-16  7e-16\n",
      " 5:  2.8046e-01  2.0607e-01  7e-02  7e-16  8e-16\n",
      " 6:  2.5933e-01  2.2261e-01  4e-02  6e-16  9e-16\n",
      " 7:  2.4806e-01  2.3116e-01  2e-02  6e-16  5e-15\n",
      " 8:  2.4224e-01  2.3563e-01  7e-03  6e-16  2e-15\n",
      " 9:  2.3968e-01  2.3764e-01  2e-03  6e-16  2e-15\n",
      "10:  2.3872e-01  2.3843e-01  3e-04  6e-16  3e-15\n"
     ]
    }
   ],
   "source": [
    "regularisation_para_C = [1] + list(range(0, 101, 5))\n",
    "\n",
    "for k in regularisation_para_C:\n",
    "    svm_model = svm_train_primal(X_data_train , y_label_train , k)\n",
    "    test_accuracy_primal = svm_predict_primal(X_data_val , y_label_val, svm_model)\n",
    "    print('The training accuracy for C = ', k, ' is: ', test_accuracy_primal)"
   ]
  },
  {
   "cell_type": "code",
   "execution_count": null,
   "metadata": {
    "colab": {
     "base_uri": "https://localhost:8080/",
     "height": 391
    },
    "colab_type": "code",
    "id": "JO-mCWio5_It",
    "outputId": "21415c16-b042-4e5d-f9b8-d84d6b7a23ad"
   },
   "outputs": [],
   "source": [
    "svm_model = svm_train_primal(X_data_train , y_label_train , 100)\n",
    "train_accuracy, val_accuracy, test_accuracy = svm_predict_primal(X_data_train , y_label_train , svm_model), svm_predict_primal(X_data_val , y_label_val , svm_model), svm_predict_primal(Y , y , svm_model)\n",
    "\n",
    "print(\"The train accuracy for our train set: \", train_accuracy)\n",
    "print(\"The val accuracy for our validation set: \", val_accuracy)\n",
    "print(\"The test accuracy for our testing set: \", test_accuracy)"
   ]
  },
  {
   "cell_type": "code",
   "execution_count": null,
   "metadata": {
    "colab": {},
    "colab_type": "code",
    "id": "TO3cYKDy6AT2"
   },
   "outputs": [],
   "source": [
    "w_primal, b_primal = svm_model[:X_data_train.shape[1]], svm_model[-1]\n",
    "primal_W_series, primal_b_series = pd.Series(w_primal), pd.Series(b_primal)\n",
    "primal_series = pd.concat([primal_W_series, primal_b_series], axis=0)"
   ]
  },
  {
   "cell_type": "code",
   "execution_count": null,
   "metadata": {
    "colab": {},
    "colab_type": "code",
    "id": "HS1ZvQ3W6Bcm"
   },
   "outputs": [],
   "source": [
    "# SVM Dual Form - training function\n",
    "\n",
    "def svm_train_dual(data_train,  label_train,  regularisation_para_C):\n",
    "    a, b = X_data_train.shape\n",
    "    label_train = label_train.reshape(-1, 1) * 1.\n",
    "    \n",
    "    label_train_diagonal = np.asarray(np.diag(np.ones(label_train.shape[0]))*label_train) \n",
    "    mat = np.dot(label_train_diagonal, data_train)\n",
    "    mat.shape\n",
    "\n",
    "    P, q = matrix(np.dot(mat , mat.T) * 1.), matrix(-np.ones((a, 1)))\n",
    "\n",
    "    G = matrix(np.vstack((np.eye(a) * (-1), np.eye(a))))\n",
    "    h = matrix(np.hstack((np.zeros(a), np.ones(a) * regularisation_para_C/a)))\n",
    "    \n",
    "    A, b = matrix(label_train.reshape(1, -1)), matrix(np.zeros(1))\n",
    "    res = solvers.qp(P, q, G, h, A, b)\n",
    "    w_1 = (label_train * np.array(res['x'])).T @ data_train\n",
    "    w = w_1.reshape(-1,1)\n",
    "\n",
    "    svm_model_d = np.vstack((w_1.reshape(-1,1), label_train[(np.array(res['x']) > 1e-4).flatten()] - np.dot(data_train[(np.array(res['x']) > 1e-4).flatten()], w).mean()))\n",
    "    return svm_model_d"
   ]
  },
  {
   "cell_type": "code",
   "execution_count": null,
   "metadata": {
    "colab": {},
    "colab_type": "code",
    "id": "U3GQevFp6Csv"
   },
   "outputs": [],
   "source": [
    "# SVM Dual Form - testing function\n",
    "\n",
    "def svm_predict_dual(data_test, label_test, svm_model_d):    \n",
    "    a, b = X_data_train.shape\n",
    "    accuracy = accuracy_score(label_test, np.sign(np.dot(svm_model_d[:b].T, data_test.T) + svm_model_d[-1]).reshape(label_test.shape))\n",
    "    return accuracy"
   ]
  },
  {
   "cell_type": "code",
   "execution_count": null,
   "metadata": {
    "colab": {
     "base_uri": "https://localhost:8080/",
     "height": 1000
    },
    "colab_type": "code",
    "id": "XVw5xawm6EEF",
    "outputId": "01afde84-d456-4bcf-c54b-f6e09a458737"
   },
   "outputs": [],
   "source": [
    "regularisation_para_C = [1] + list(range(0, 101, 5))\n",
    "for k in regularisation_para_C:\n",
    "    svm_model_dual = svm_train_dual(X_data_train , y_label_train , k)\n",
    "    test_accuracy_dual = svm_predict_dual(X_data_val , y_label_val , svm_model_dual)\n",
    "    print('The training accuracy for C = ', k, ' is: ', test_accuracy_dual)"
   ]
  },
  {
   "cell_type": "code",
   "execution_count": null,
   "metadata": {
    "colab": {
     "base_uri": "https://localhost:8080/",
     "height": 340
    },
    "colab_type": "code",
    "id": "T4CPrMTj6FZu",
    "outputId": "a66c1a97-9581-43c2-da41-5785c70fd2a5"
   },
   "outputs": [],
   "source": [
    "svm_model_d = svm_train_dual(X_data_train , y_label_train , 1)\n",
    "train_accuracy, val_accuracy, test_accuracy = svm_predict_dual(X_data_train , y_label_train , svm_model_d), svm_predict_dual(X_data_val , y_label_val , svm_model_d), svm_predict_dual(Y , y , svm_model_d)\n",
    "\n",
    "print(\"The train accuracy for our train set: \", train_accuracy)\n",
    "print(\"The val accuracy for our validation set: \", val_accuracy)\n",
    "print(\"The test accuracy for our testing set: \", test_accuracy)"
   ]
  },
  {
   "cell_type": "code",
   "execution_count": null,
   "metadata": {
    "colab": {},
    "colab_type": "code",
    "id": "GfeJGakU6Gte"
   },
   "outputs": [],
   "source": [
    "W_dual, b_dual = svm_model_d[:X_data_train.shape[1]], svm_model_d[-1]\n",
    "dual_W_series, dual_b_series = pd.Series(W_dual.flatten()), pd.Series(b_dual)\n",
    "dual_series = pd.concat((dual_W_series, dual_b_series), axis=0)"
   ]
  },
  {
   "cell_type": "code",
   "execution_count": null,
   "metadata": {
    "colab": {
     "base_uri": "https://localhost:8080/",
     "height": 357
    },
    "colab_type": "code",
    "id": "gpcxfStt6Hy-",
    "outputId": "47bc1392-33a2-4b88-bcd7-38bc8fc79f53"
   },
   "outputs": [],
   "source": [
    "# SVM using Existing Libraries - Scikit-learn \n",
    "\n",
    "regularisation_para_C = list(range(1, 101, 5))\n",
    "regularisation_para_C = [i / X_data_train.shape[0] for i in regularisation_para_C]\n",
    "\n",
    "\n",
    "for j in regularisation_para_C:\n",
    "    SVM_classifier = SVC(C = j, kernel = 'linear')\n",
    "    SVM_classifier.fit(X_data_train, y_label_train) \n",
    "    predicted_labels = SVM_classifier.predict(X_data_val)\n",
    "    accuracy = accuracy_score(y_label_val, predicted_labels)\n",
    "    print('The Training accuracy for C = ', j*X_data_train.shape[0], ' is: ', accuracy)"
   ]
  },
  {
   "cell_type": "code",
   "execution_count": null,
   "metadata": {
    "colab": {
     "base_uri": "https://localhost:8080/",
     "height": 51
    },
    "colab_type": "code",
    "id": "D1SndoD36I_W",
    "outputId": "465ff5b6-ff5c-4d05-d149-4c85291d6ce4"
   },
   "outputs": [],
   "source": [
    "SVM_classifier = SVC(C = 100 / X_data_train.shape[0], kernel = 'linear')\n",
    "SVM_classifier.fit(X_data_train, y_label_train) \n",
    "predicted_labels_train = SVM_classifier.predict(X_data_train)\n",
    "train_accuracy = accuracy_score(y_label_train, predicted_labels_train)\n",
    "predicted_labels_test = SVM_classifier.predict(Y)\n",
    "test_accuracy = accuracy_score(y, predicted_labels_test)\n",
    "print('The overall training accuracy is : ',train_accuracy)\n",
    "print('The overall testing accuracy is : ',test_accuracy)"
   ]
  },
  {
   "cell_type": "code",
   "execution_count": null,
   "metadata": {
    "colab": {},
    "colab_type": "code",
    "id": "k6O7F6zt6KMe"
   },
   "outputs": [],
   "source": [
    "SVC_series = pd.concat((pd.Series(SVM_classifier.coef_.flatten()), pd.Series(SVM_classifier.intercept_)), axis=0)"
   ]
  },
  {
   "cell_type": "code",
   "execution_count": null,
   "metadata": {
    "colab": {},
    "colab_type": "code",
    "id": "O6Zrqmtj6LXu"
   },
   "outputs": [],
   "source": [
    "parameter_comparison = pd.concat([dual_series.rename('SVM Dual Form'), primal_series.rename('SVM Primal Form')], axis=1)\n",
    "parameter_difference = round((parameter_comparison['SVM Primal Form'] - parameter_comparison['SVM Dual Form']), 4)\n",
    "parameter_difference_percentage = (parameter_comparison['SVM Primal Form'] - parameter_comparison['SVM Dual Form'])/parameter_comparison['SVM Dual Form']*100\n",
    "final_parameter_comparison = pd.concat([parameter_comparison, parameter_difference, parameter_difference_percentage], axis=1)\n",
    "weights_comparison = final_parameter_comparison.iloc[:200]"
   ]
  },
  {
   "cell_type": "code",
   "execution_count": null,
   "metadata": {
    "colab": {
     "base_uri": "https://localhost:8080/",
     "height": 1000
    },
    "colab_type": "code",
    "id": "Hetpecmp6MaH",
    "outputId": "0876a364-18a0-4ef8-e1fb-9363d2d76b42"
   },
   "outputs": [],
   "source": [
    "plt.figure(figsize=(14,8), dpi = 250, facecolor = 'gray', edgecolor = 'blue')\n",
    "plt.scatter(range(0, 201), final_parameter_comparison['SVM Primal Form'], c = 'red', marker = 'd')\n",
    "plt.scatter(range(0, 201), final_parameter_comparison['SVM Dual Form'], c='yellow', marker = '+')\n",
    "plt.title('Comparision of Weights and Bias for Primal and Dual Form')"
   ]
  },
  {
   "cell_type": "code",
   "execution_count": null,
   "metadata": {},
   "outputs": [],
   "source": []
  }
 ],
 "metadata": {
  "accelerator": "GPU",
  "colab": {
   "collapsed_sections": [],
   "name": "a1_ISML.ipynb",
   "provenance": []
  },
  "kernelspec": {
   "display_name": "Python 3 (ipykernel)",
   "language": "python",
   "name": "python3"
  },
  "language_info": {
   "codemirror_mode": {
    "name": "ipython",
    "version": 3
   },
   "file_extension": ".py",
   "mimetype": "text/x-python",
   "name": "python",
   "nbconvert_exporter": "python",
   "pygments_lexer": "ipython3",
   "version": "3.8.9"
  }
 },
 "nbformat": 4,
 "nbformat_minor": 1
}
